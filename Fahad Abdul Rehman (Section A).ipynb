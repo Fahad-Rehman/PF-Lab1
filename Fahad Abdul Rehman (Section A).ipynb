{
 "cells": [
  {
   "cell_type": "code",
   "execution_count": 5,
   "metadata": {
    "scrolled": false
   },
   "outputs": [
    {
     "name": "stdout",
     "output_type": "stream",
     "text": [
      "Whats your name: Fahad\n",
      "How old are you: 19\n",
      "Fahadwill be 100 years old in the year 2100\n"
     ]
    }
   ],
   "source": [
    "name = input(\"Whats your name: \")\n",
    "age = int(input(\"How old are you: \"))\n",
    "year = str ((2019 - age)+100)\n",
    "print(name + \"will be 100 years old in the year \" + year)"
   ]
  },
  {
   "cell_type": "code",
   "execution_count": 6,
   "metadata": {
    "scrolled": false
   },
   "outputs": [
    {
     "name": "stdout",
     "output_type": "stream",
     "text": [
      "Twinkle, twinkle, little star, \n",
      "\tHow I wonder what you are!\n",
      "\t\tUp above the world so high, \n",
      "\t\tLike a diamond in the sky.\n",
      "Twinkle, twinkle, little star,\n",
      "\tHow I wonder what you are!\n"
     ]
    }
   ],
   "source": [
    "print(\"Twinkle, twinkle, little star, \\n\\tHow I wonder what you are!\\n\\t\\tUp above the world so high, \\n\\t\\tLike a diamond in the sky.\\nTwinkle, twinkle, little star,\\n\\tHow I wonder what you are!\")"
   ]
  },
  {
   "cell_type": "code",
   "execution_count": 7,
   "metadata": {},
   "outputs": [
    {
     "name": "stdout",
     "output_type": "stream",
     "text": [
      "Current date and time : \n",
      "2019-10-22 13:26:04\n"
     ]
    }
   ],
   "source": [
    "import datetime\n",
    "now = datetime.datetime.now()\n",
    "print (\"Current date and time : \")\n",
    "print (now.strftime(\"%Y-%m-%d %H:%M:%S\"))"
   ]
  },
  {
   "cell_type": "code",
   "execution_count": 7,
   "metadata": {},
   "outputs": [
    {
     "name": "stdout",
     "output_type": "stream",
     "text": [
      "Input the radius of the circle: 7\n",
      "The are of the circle with radius 7.0 is: 153.93804002589985\n"
     ]
    }
   ],
   "source": [
    "from math import pi\n",
    "r = float (input(\"Input the radius of the circle: \"))\n",
    "print (\"The are of the circle with radius \" + str(r) + \" is: \" + str (pi * r**2))"
   ]
  },
  {
   "cell_type": "code",
   "execution_count": 6,
   "metadata": {},
   "outputs": [
    {
     "name": "stdout",
     "output_type": "stream",
     "text": [
      "Input your First Name: Fahad\n",
      "Input your Last Name: Abdul Rehman\n",
      "Hello Abdul Rehman Fahad\n"
     ]
    }
   ],
   "source": [
    "fname = input(\"Input your First Name: \")\n",
    "lname = input (\"Input your Last Name: \")\n",
    "print (\"Hello \" + lname + \" \" + fname)"
   ]
  },
  {
   "cell_type": "code",
   "execution_count": 16,
   "metadata": {},
   "outputs": [
    {
     "name": "stdout",
     "output_type": "stream",
     "text": [
      "Input the year : 2019\n",
      "Input the month : 10\n",
      "    October 2019\n",
      "Mo Tu We Th Fr Sa Su\n",
      "    1  2  3  4  5  6\n",
      " 7  8  9 10 11 12 13\n",
      "14 15 16 17 18 19 20\n",
      "21 22 23 24 25 26 27\n",
      "28 29 30 31\n",
      "\n"
     ]
    }
   ],
   "source": [
    "import calendar\n",
    "y = int(input(\"Input the year : \"))\n",
    "m = int(input(\"Input the month : \"))\n",
    "print(calendar.month(y, m))"
   ]
  },
  {
   "cell_type": "code",
   "execution_count": 2,
   "metadata": {},
   "outputs": [
    {
     "name": "stdout",
     "output_type": "stream",
     "text": [
      "Enter temperature in centigrade: 43\n",
      "Temperature in Fahrenheit is: 109.4\n"
     ]
    }
   ],
   "source": [
    "degree = int(input(\"Enter temperature in centigrade: \"))\n",
    "fahrenheit = str((degree * 9/5) + 32)\n",
    "print (\"Temperature in Fahrenheit is: \" + fahrenheit)"
   ]
  },
  {
   "cell_type": "code",
   "execution_count": 19,
   "metadata": {},
   "outputs": [
    {
     "name": "stdout",
     "output_type": "stream",
     "text": [
      "Enter the temperature in Fahrenheit: 132\n",
      "Temperature in Degree Centigrade is: 41.33333333333333\n"
     ]
    }
   ],
   "source": [
    "fahrenheit = int(input(\"Enter the temperature in Fahrenheit: \"))\n",
    "degree = str ((fahrenheit * 5/9) - 32)\n",
    "print (\"Temperature in Degree Centigrade is: \" + degree)"
   ]
  },
  {
   "cell_type": "code",
   "execution_count": 24,
   "metadata": {},
   "outputs": [
    {
     "name": "stdout",
     "output_type": "stream",
     "text": [
      "Enter the length of rectangle: 7\n",
      "Enter the breadth of rectangle: 4\n",
      "The Area of rectangle is: 28\n"
     ]
    }
   ],
   "source": [
    "Length = int(input(\"Enter the length of rectangle: \"))\n",
    "Breadth = int(input(\"Enter the breadth of rectangle: \"))\n",
    "Area = str (Length * Breadth)\n",
    "print (\"The Area of rectangle is: \" + Area)"
   ]
  },
  {
   "cell_type": "code",
   "execution_count": 36,
   "metadata": {},
   "outputs": [
    {
     "name": "stdout",
     "output_type": "stream",
     "text": [
      "Input the radius of the sphere: 6\n",
      "The Volume of the sphere with radius: 6.0 is: 904.7786842338603\n"
     ]
    }
   ],
   "source": [
    "from math import pi\n",
    "r = float(input (\"Input the radius of the sphere: \"))\n",
    "print (\"The Volume of the sphere with radius: \" + str(r) + \" is: \" + str(4/3 * pi * r**3))"
   ]
  },
  {
   "cell_type": "code",
   "execution_count": 5,
   "metadata": {},
   "outputs": [
    {
     "name": "stdout",
     "output_type": "stream",
     "text": [
      "FAHAD ABDUL REHMAN\n",
      "fahad abdul rehman\n",
      "Fahad Abdul Rehman\n"
     ]
    }
   ],
   "source": [
    "name = \"Fahad Abdul Rehman\"\n",
    "print (name.upper())\n",
    "print (name.lower())\n",
    "print (name.title())"
   ]
  }
 ],
 "metadata": {
  "anaconda-cloud": {},
  "kernelspec": {
   "display_name": "Python 3",
   "language": "python",
   "name": "python3"
  },
  "language_info": {
   "codemirror_mode": {
    "name": "ipython",
    "version": 3
   },
   "file_extension": ".py",
   "mimetype": "text/x-python",
   "name": "python",
   "nbconvert_exporter": "python",
   "pygments_lexer": "ipython3",
   "version": "3.7.3"
  }
 },
 "nbformat": 4,
 "nbformat_minor": 1
}
